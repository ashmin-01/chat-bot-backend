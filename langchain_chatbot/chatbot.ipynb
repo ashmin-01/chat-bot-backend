{
 "cells": [
  {
   "cell_type": "markdown",
   "id": "f4e5c5fd",
   "metadata": {},
   "source": [
    "# LangChain Chat"
   ]
  },
  {
   "cell_type": "markdown",
   "id": "da828b7a",
   "metadata": {},
   "source": [
    "## Setup"
   ]
  },
  {
   "cell_type": "code",
   "execution_count": null,
   "id": "50cc1521",
   "metadata": {},
   "outputs": [],
   "source": [
    "# !pip install langchain langchain_community==0.0.36 langchain_chroma\n",
    "# !pip install langchain-core\n",
    "# !pip install bs4\n",
    "# !pip install -qU langchain-groq\n",
    "# !pip install python-dotenv"
   ]
  },
  {
   "cell_type": "code",
   "execution_count": 1,
   "id": "6633a351",
   "metadata": {},
   "outputs": [],
   "source": [
    "# !pip freeze > requirements.txt"
   ]
  },
  {
   "cell_type": "code",
   "execution_count": 11,
   "id": "cbdca4ef",
   "metadata": {},
   "outputs": [],
   "source": [
    "from dotenv import load_dotenv\n",
    "import os\n",
    "\n",
    "load_dotenv()\n",
    "\n",
    "hugging_api_key = os.getenv('HUGGING_FACE_API_KEY')\n",
    "groq_api_key = os.getenv('GROQ_API_KEY')"
   ]
  },
  {
   "cell_type": "markdown",
   "id": "2c34895d",
   "metadata": {},
   "source": [
    "## Document Loading"
   ]
  },
  {
   "cell_type": "code",
   "execution_count": 12,
   "id": "e4e37826",
   "metadata": {},
   "outputs": [],
   "source": [
    "from langchain_community.document_loaders import BSHTMLLoader\n",
    "\n",
    "file_path = \"./AkrabElikApp.html\"\n",
    "\n",
    "loader = BSHTMLLoader(file_path, open_encoding=\"utf-8\")\n",
    "docs = loader.load()"
   ]
  },
  {
   "cell_type": "markdown",
   "id": "8680bfe4",
   "metadata": {},
   "source": [
    "## Document Splitting"
   ]
  },
  {
   "cell_type": "code",
   "execution_count": 3,
   "id": "edd93611",
   "metadata": {},
   "outputs": [],
   "source": [
    "from langchain_text_splitters import RecursiveCharacterTextSplitter\n",
    "\n",
    "text_splitter = RecursiveCharacterTextSplitter(chunk_size=1000, chunk_overlap=200)\n",
    "splits = text_splitter.split_documents(docs)"
   ]
  },
  {
   "cell_type": "markdown",
   "id": "ea40c289",
   "metadata": {},
   "source": [
    "## Vectorstore and Embedding"
   ]
  },
  {
   "cell_type": "markdown",
   "id": "9df98e04",
   "metadata": {},
   "source": [
    "### Spacy Embedding"
   ]
  },
  {
   "cell_type": "code",
   "execution_count": 20,
   "id": "036dd0c4",
   "metadata": {},
   "outputs": [],
   "source": [
    "# !pip install spacy\n",
    "# !spacy download en_core_web_sm"
   ]
  },
  {
   "cell_type": "code",
   "execution_count": 21,
   "id": "b672f3ee",
   "metadata": {},
   "outputs": [],
   "source": [
    "from langchain_community.embeddings.spacy_embeddings import SpacyEmbeddings\n",
    "\n",
    "embedder = SpacyEmbeddings(model_name=\"en_core_web_sm\")"
   ]
  },
  {
   "cell_type": "code",
   "execution_count": 22,
   "id": "e1c7a7a2",
   "metadata": {},
   "outputs": [],
   "source": [
    "from langchain_chroma import Chroma\n",
    "\n",
    "vectorstore = Chroma.from_documents(documents=splits, embedding=embedder)"
   ]
  },
  {
   "cell_type": "markdown",
   "id": "38aef37f",
   "metadata": {},
   "source": [
    "### HuggingFace Embedding"
   ]
  },
  {
   "cell_type": "code",
   "execution_count": 9,
   "id": "bef923e8",
   "metadata": {},
   "outputs": [],
   "source": [
    "from langchain_community.embeddings import HuggingFaceInferenceAPIEmbeddings\n",
    "\n",
    "embedder = HuggingFaceInferenceAPIEmbeddings(\n",
    "    api_key=hugging_api_key, model_name=\"Griffin88/sentence-embedding-LaBSE\"\n",
    ")"
   ]
  },
  {
   "cell_type": "code",
   "execution_count": 10,
   "id": "cfcf86db",
   "metadata": {},
   "outputs": [],
   "source": [
    "from langchain_chroma import Chroma\n",
    "\n",
    "vectorstore = Chroma.from_documents(documents=splits, embedding=embedder)\n"
   ]
  },
  {
   "cell_type": "markdown",
   "id": "4ce5cf6e",
   "metadata": {},
   "source": [
    "## Retrival and Generation"
   ]
  },
  {
   "cell_type": "code",
   "execution_count": 6,
   "id": "b1d18aea",
   "metadata": {},
   "outputs": [],
   "source": [
    "from langchain_core.prompts import PromptTemplate\n",
    "from groq import Groq\n",
    "\n",
    "class RAGPipeline:\n",
    "    def __init__(self, vectorstore, api_key, model_name=\"gemma2-9b-it\", k=6):\n",
    "        self.vectorstore = vectorstore\n",
    "        self.api_key = api_key\n",
    "        self.model_name = model_name\n",
    "        self.k = k\n",
    "        self.retriever = self.vectorstore.as_retriever(search_type=\"similarity\", search_kwargs={\"k\": self.k})\n",
    "        self.prompt_template = PromptTemplate.from_template(self._get_template())\n",
    "        self.client = Groq(api_key=self.api_key)\n",
    "        \n",
    "    def _get_template(self):\n",
    "        return \"\"\"\n",
    "        استخدم السياقات التالية للإجابة على السؤال في النهاية.\n",
    "        إذا كنت لا تعرف الإجابة، فقط قل إنك لا تعرف، لا تحاول تصنيع إجابة.\n",
    "        حافظ على إجابتك شاملة وصحيحة قدر الإمكان.\n",
    "        دائمًا قل 'شكرًا للسؤال!' في نهاية الإجابة.\n",
    "        \\n السياق: {context}\n",
    "        \\n السؤال: {question}\n",
    "        \\n الإجابة المفيدة:\n",
    "        \"\"\"\n",
    "\n",
    "    def generate_response(self, question):\n",
    "        retrieved_docs = self._retrieve_documents(question)\n",
    "        prompt = self._create_prompt(retrieved_docs, question)\n",
    "        response = self._query_model(prompt)\n",
    "        return response\n",
    "\n",
    "    def _retrieve_documents(self, question):\n",
    "        retrieved_docs = self.retriever.invoke(question)\n",
    "        return {f'doc_{i}': doc.page_content for i, doc in enumerate(retrieved_docs)}\n",
    "\n",
    "    def _create_prompt(self, docs, question):\n",
    "        return self.prompt_template.format(context=docs, question=question)\n",
    "\n",
    "    def _query_model(self, prompt):\n",
    "        completion = self.client.chat.completions.create(\n",
    "            model=self.model_name,\n",
    "            messages=[{\"role\": \"user\", \"content\": prompt}],\n",
    "            temperature=1,\n",
    "            max_tokens=1024,\n",
    "            top_p=1,\n",
    "            stream=True,\n",
    "            stop=None,\n",
    "        )\n",
    "        \n",
    "        response = \"\"\n",
    "        for chunk in completion:\n",
    "            response += chunk.choices[0].delta.content or \"\"\n",
    "        \n",
    "        return response"
   ]
  },
  {
   "cell_type": "code",
   "execution_count": 7,
   "id": "7c45d58b",
   "metadata": {},
   "outputs": [],
   "source": [
    "rag_pipeline = RAGPipeline(vectorstore, groq_api_key)"
   ]
  },
  {
   "cell_type": "markdown",
   "id": "1d319023",
   "metadata": {},
   "source": [
    "## Tests"
   ]
  },
  {
   "cell_type": "code",
   "execution_count": 8,
   "id": "618dd4d8",
   "metadata": {},
   "outputs": [
    {
     "name": "stdout",
     "output_type": "stream",
     "text": [
      "Question:  بلاقي سيرياتيل كاش عتطبيق أقرب إليك؟\n",
      "Response:  أنا ما أفهم سؤالك.  شكرًا للسؤال! \n",
      "\n"
     ]
    }
   ],
   "source": [
    "question = \"بلاقي سيرياتيل كاش عتطبيق أقرب إليك؟\"\n",
    "print('Question: ', question)\n",
    "response = rag_pipeline.generate_response(question)\n",
    "print('Response: ', response)"
   ]
  },
  {
   "cell_type": "code",
   "execution_count": 29,
   "id": "595a558a",
   "metadata": {},
   "outputs": [
    {
     "name": "stdout",
     "output_type": "stream",
     "text": [
      "Question:  كيف بنزل تطبيق أقرب إليك\n",
      "Response:  يمكنك تحميل تطبيق أقرب إليك من خلال موقع سيريتل www.syriatel.sy (تطبيقات الموبايل)، أو من خلال متجر سيريا ستور، أو عن طريق الرمز .*580#.\n",
      "\n",
      "شكرًا للسؤال! \n",
      "\n",
      "Question:  شو هو تطبيق أقرب إليك\n",
      "Response:  تطبيق \"أقرب إليك\" هو تطبيق إلكتروني يُقدم للمشتركين في شبكة سيريتل عدة خدمات, مثل:\n",
      "\n",
      "* **إعلام العميل بالمعلومات** التي يمكن التحكم بها من خلال التطبيق\n",
      "\n",
      "* **إدارة الخدمات** المتوفرة للزبون عبر التطبيق.\n",
      "\n",
      "* **التحميل:** يمكن تحميل التطبيق من خلال موقع سيريتل، أو من خلال متجر سيريا ستور، أو بالضغط على الرمز *580# . \n",
      "\n",
      "\n",
      "شكرًا للسؤال! \n",
      "\n",
      "Question:  كان الجهاز المستخدم يدعم إصدار أندرويد قديم\n",
      "Response:  عند التعامل مع حالة جهاز مزود بِإصدار قديم من Android، ينبغي على الموظف اتباع الخطوات التالية:\n",
      "\n",
      "1. **استفسار الزبون**:  سؤال الزبون عن  إمكانية  تجربة \"الشريحة\" \"على جهاز\" يدعم إصدارًا أحدث من Android.\n",
      "2. **شرح الموظف**: إذا أبدى الزبون رغبة في الاستمرار،  يجبّ على الموظف شرح  حاجة   \"الجهاز\" إلى إصدار أحدث  من نظام  Android  لتجربة \"الشريحة\" بشكل  سلس.\n",
      "\n",
      "شكرًا للسؤال!\n",
      "\n",
      "Question:  ما هي الخدمات المتاحة لمستخدمي خطوط مسبق الدفع؟\n",
      "Response:  أنا آسف، لكن لا يوجد في السياقات معلومات عن الخدمات المتاحة لمستخدمي خطوط مسبق الدفع. \n",
      "\n",
      "شكرًا للسؤال! \n",
      "\n",
      "Question:  ما هي الخدمات المتاحة لمستخدمي خطوط لاحق الدفع؟\n",
      "Response:  أنا آسف، لكن لا يمكنني الإجابة على هذا السؤال. لا توجد معلومات حول خدمات خطوط لاحق الدفع في السياق الذي تم توفيره. \n",
      "\n",
      "شكرًا للسؤال! \n",
      "\n",
      "Question:  كيف فيني أحول سيرياتيل كاش؟\n",
      "Response:   لا أفهم السؤال، لا يوجد في السياقات معلومات حول كيفية تحويل سيرياتيل كاش.  شكرًا للسؤال! \n",
      "\n",
      "Question:  شو هو سيرياتيل كاش؟\n",
      "Response:  أنا آسف، لكن لا أجد إجابة على سؤال \"ما هو سيرياتيل كاش\" في السياقات التي قدمتها.   \n",
      "شكرًا للسؤال! \n",
      "\n",
      "Question:  لماذا تطبيق أقرب إليك لايعمل؟\n",
      "Response:  حسب المعلومات المخصصة، فإن تطبيق أقرب إليك لا يعمل في حال كان زبون سيريتل بخط SS1. كما أن التطبيق لا يعمل خارج سورية اثناء التجوال.   \n",
      "\n",
      "شكرًا للسؤال! \n",
      "\n",
      "Question:  ما هي سيرياتيل؟\n",
      "Response:  وفقًا للمعلومات المزودة، تعتبر Syriatel شبكة إنترنت تعمل في سورية.  شكرًا للسؤال! \n",
      "\n"
     ]
    }
   ],
   "source": [
    "questions = [\n",
    "    \"كيف بنزل تطبيق أقرب إليك\",\n",
    "    \"شو هو تطبيق أقرب إليك\",\n",
    "    \"كان الجهاز المستخدم يدعم إصدار أندرويد قديم\",\n",
    "    \"ما هي الخدمات المتاحة لمستخدمي خطوط مسبق الدفع؟\",\n",
    "    \"ما هي الخدمات المتاحة لمستخدمي خطوط لاحق الدفع؟\",\n",
    "    \"كيف فيني أحول سيرياتيل كاش؟\",\n",
    "    \"شو هو سيرياتيل كاش؟\",\n",
    "    \"لماذا تطبيق أقرب إليك لايعمل؟\",\n",
    "    \"ما هي سيرياتيل؟\"\n",
    "]\n",
    "\n",
    "for question in questions:\n",
    "    print('Question: ', question)\n",
    "    response = rag_pipeline.generate_response(question)\n",
    "    print('Response: ', response)"
   ]
  },
  {
   "cell_type": "markdown",
   "id": "502a8912",
   "metadata": {},
   "source": [
    "# Done!"
   ]
  }
 ],
 "metadata": {
  "kernelspec": {
   "display_name": "Python 3",
   "language": "python",
   "name": "python3"
  },
  "language_info": {
   "codemirror_mode": {
    "name": "ipython",
    "version": 3
   },
   "file_extension": ".py",
   "mimetype": "text/x-python",
   "name": "python",
   "nbconvert_exporter": "python",
   "pygments_lexer": "ipython3",
   "version": "3.11.7"
  }
 },
 "nbformat": 4,
 "nbformat_minor": 5
}
